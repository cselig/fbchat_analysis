{
 "cells": [
  {
   "cell_type": "markdown",
   "metadata": {},
   "source": [
    "First we'll import a few necessary modules."
   ]
  },
  {
   "cell_type": "code",
   "execution_count": 7,
   "metadata": {
    "collapsed": true
   },
   "outputs": [],
   "source": [
    "import fbchat\n",
    "import os"
   ]
  },
  {
   "cell_type": "markdown",
   "metadata": {},
   "source": [
    "Next I'll define a simple function to return all messages between myself and a friend. If you'd like to do this, run the following code to set up an instance of the fbchat client with your fb ID and password exposed as environment variables. \n",
    "```python\n",
    "client = fbchat.Client(os.environ['ID'], os.environ['PASSWORD'])\n",
    "friend_name = input(\"Friend's name: \")\n",
    "\n",
    "f = pull_messages(client, friend_name)\n",
    "```"
   ]
  },
  {
   "cell_type": "code",
   "execution_count": 8,
   "metadata": {
    "collapsed": true
   },
   "outputs": [],
   "source": [
    "def pull_messages(client, friend_name):\n",
    "    friendList = client.getUsers(friend_name)\n",
    "    friend = friendList[0]\n",
    "\n",
    "    last_messages = client.getThreadInfo(friend.uid, 10000) # 10000 should cover all messages?\n",
    "    last_messages.reverse()  # messages come in reversed order\n",
    "\n",
    "    result = []\n",
    "\n",
    "    for message in last_messages:\n",
    "        if message.author.split(\":\")[1] == str(os.environ['ID']):\n",
    "            name = \"You\"\n",
    "        else: \n",
    "            name = friend_name\n",
    "        if hasattr(message, 'body') and message.body:\n",
    "            result.append(name + \": \" + message.body)\n",
    "\n",
    "    return result"
   ]
  },
  {
   "cell_type": "code",
   "execution_count": 9,
   "metadata": {
    "collapsed": true
   },
   "outputs": [],
   "source": [
    "f = open('messages.txt', 'r')"
   ]
  },
  {
   "cell_type": "markdown",
   "metadata": {},
   "source": [
    "We'll use the package vaderSentiment (https://pypi.python.org/pypi/vaderSentiment) to characterize messages between the user and a friend. The package has been trained using tweets and classifies text as positive, negative, or neutral. We then define a couple of dictionaries to keep track of our data."
   ]
  },
  {
   "cell_type": "code",
   "execution_count": 10,
   "metadata": {
    "collapsed": true
   },
   "outputs": [],
   "source": [
    "from vaderSentiment import vaderSentiment\n",
    "ana = vaderSentiment.SentimentIntensityAnalyzer()\n",
    "\n",
    "you = {\n",
    "    'total':0,\n",
    "    'pos':0,\n",
    "    'neg':0,\n",
    "    'neut':0}\n",
    "\n",
    "friend = {\n",
    "    'total':0,\n",
    "    'pos':0,\n",
    "    'neg':0,\n",
    "    'neut':0}"
   ]
  },
  {
   "cell_type": "markdown",
   "metadata": {
    "collapsed": true
   },
   "source": [
    "Here's where most of the work is done. We go through every message and classify it as positive, negative, or neutral for both the user and the user's friend."
   ]
  },
  {
   "cell_type": "code",
   "execution_count": 11,
   "metadata": {},
   "outputs": [],
   "source": [
    "for msg in f:\n",
    "    split = msg.split(':')\n",
    "\n",
    "    if len(split) > 1:\n",
    "\n",
    "        classified = ana.polarity_scores(split[1])\n",
    "\n",
    "        if split[0] == 'You':\n",
    "            you['total'] += 1\n",
    "            if classified['neg'] > 0.5:\n",
    "                you['neut'] += 1\n",
    "            elif classified['pos'] > 0.5:\n",
    "                you['pos'] += 1\n",
    "            else: # classified['neg'] >= 0.5\n",
    "                you['neg'] += 1\n",
    "        else:\n",
    "            friend['total'] += 1\n",
    "            if classified['neg'] > 0.5:\n",
    "                friend['neut'] += 1\n",
    "            elif classified['pos'] > 0.5:\n",
    "                friend['pos'] += 1\n",
    "            else: # classified['neg'] >= 0.5\n",
    "                friend['neg'] += 1"
   ]
  },
  {
   "cell_type": "markdown",
   "metadata": {},
   "source": [
    "At this point, there's already a ton we can do with the data we have! Let's go a few steps further though.\n",
    "\n"
   ]
  },
  {
   "cell_type": "code",
   "execution_count": null,
   "metadata": {
    "collapsed": true
   },
   "outputs": [],
   "source": []
  }
 ],
 "metadata": {
  "kernelspec": {
   "display_name": "Python 3",
   "language": "python",
   "name": "python3"
  },
  "language_info": {
   "codemirror_mode": {
    "name": "ipython",
    "version": 3
   },
   "file_extension": ".py",
   "mimetype": "text/x-python",
   "name": "python",
   "nbconvert_exporter": "python",
   "pygments_lexer": "ipython3",
   "version": "3.6.1"
  }
 },
 "nbformat": 4,
 "nbformat_minor": 2
}
