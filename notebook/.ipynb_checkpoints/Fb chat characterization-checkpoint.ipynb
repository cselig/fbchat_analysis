{
 "cells": [
  {
   "cell_type": "markdown",
   "metadata": {},
   "source": [
    "First we'll import a few necessary modules."
   ]
  },
  {
   "cell_type": "code",
   "execution_count": 3,
   "metadata": {},
   "outputs": [],
   "source": [
    "import fbchat\n",
    "import os"
   ]
  },
  {
   "cell_type": "code",
   "execution_count": 2,
   "metadata": {
    "collapsed": true
   },
   "outputs": [],
   "source": [
    "def pull_messages(client, friend_name):\n",
    "\tfriendList = client.getUsers(friend_name)\n",
    "\tfriend = friendList[0]\n",
    "\n",
    "\tlast_messages = client.getThreadInfo(friend.uid, 10000) # 10000 should cover all messages?\n",
    "\tlast_messages.reverse()  # messages come in reversed order\n",
    "\n",
    "\tresult = []\n",
    "\n",
    "\tfor message in last_messages:\n",
    "\t\tif message.author.split(\":\")[1] == str(os.environ['ID']):\n",
    "\t\t\tname = \"You\"\n",
    "\t\telse: \n",
    "\t\t\tname = friend_name\n",
    "\t\tif hasattr(message, 'body') and message.body:\n",
    "\t\t\tresult.append(name + \": \" + message.body)\n",
    "\n",
    "\treturn result\n",
    "\n",
    "client = fbchat.Client(os.environ['ID'], os.environ['PASSWORD'])\n",
    "friend_name = input(\"Friend's name: \")\n",
    "\n",
    "f = pull_messages(client, friend_name)"
   ]
  },
  {
   "cell_type": "markdown",
   "metadata": {},
   "source": [
    "Next we define a simple function to return al"
   ]
  },
  {
   "cell_type": "code",
   "execution_count": null,
   "metadata": {
    "collapsed": true
   },
   "outputs": [],
   "source": [
    "from vaderSentiment import vaderSentiment\n",
    "\n",
    "ana = vaderSentiment.SentimentIntensityAnalyzer()"
   ]
  }
 ],
 "metadata": {
  "kernelspec": {
   "display_name": "Python 3",
   "language": "python",
   "name": "python3"
  },
  "language_info": {
   "codemirror_mode": {
    "name": "ipython",
    "version": 3
   },
   "file_extension": ".py",
   "mimetype": "text/x-python",
   "name": "python",
   "nbconvert_exporter": "python",
   "pygments_lexer": "ipython3",
   "version": "3.6.1"
  }
 },
 "nbformat": 4,
 "nbformat_minor": 2
}
